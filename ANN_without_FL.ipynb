{
  "nbformat": 4,
  "nbformat_minor": 0,
  "metadata": {
    "colab": {
      "provenance": [],
      "collapsed_sections": [],
      "authorship_tag": "ABX9TyP7wQ0TaOI2HIvWtY5KHY0M",
      "include_colab_link": true
    },
    "kernelspec": {
      "name": "python3",
      "display_name": "Python 3"
    },
    "language_info": {
      "name": "python"
    }
  },
  "cells": [
    {
      "cell_type": "markdown",
      "metadata": {
        "id": "view-in-github",
        "colab_type": "text"
      },
      "source": [
        "<a href=\"https://colab.research.google.com/github/Amjath22/Federated-Learning-Test/blob/main/ANN_without_FL.ipynb\" target=\"_parent\"><img src=\"https://colab.research.google.com/assets/colab-badge.svg\" alt=\"Open In Colab\"/></a>"
      ]
    },
    {
      "cell_type": "code",
      "execution_count": 1,
      "metadata": {
        "id": "M-dn_3l2blWN"
      },
      "outputs": [],
      "source": [
        "import numpy as np\n",
        "import pandas as pd\n",
        "import tensorflow as tf"
      ]
    },
    {
      "cell_type": "code",
      "source": [
        "data=pd.read_csv('Churn_Modelling.csv')\n",
        "# no missing data\n",
        "X=data.iloc[:,3:-1].values\n",
        "Y=data.iloc[:,-1].values"
      ],
      "metadata": {
        "id": "1RK_GhByb7T6"
      },
      "execution_count": 4,
      "outputs": []
    },
    {
      "cell_type": "markdown",
      "source": [
        "Here we have 2 categorical data (Gender and Geography)"
      ],
      "metadata": {
        "id": "rgQazZindIQI"
      }
    },
    {
      "cell_type": "code",
      "source": [
        "from sklearn.preprocessing import LabelEncoder\n",
        "\n",
        "labEnc=LabelEncoder()\n",
        "X[:,2]=labEnc.fit_transform(X[:,2])"
      ],
      "metadata": {
        "id": "QogImWivcfxS"
      },
      "execution_count": 7,
      "outputs": []
    },
    {
      "cell_type": "code",
      "source": [
        "from sklearn.compose import ColumnTransformer\n",
        "from sklearn.preprocessing import OneHotEncoder\n",
        "ColTrans=ColumnTransformer(transformers=[('encoder',OneHotEncoder(),[1])],remainder='passthrough')\n",
        "X=np.array(ColTrans.fit_transform(X));"
      ],
      "metadata": {
        "id": "avQQPEeXd7ph"
      },
      "execution_count": 8,
      "outputs": []
    },
    {
      "cell_type": "code",
      "source": [
        "from sklearn.model_selection import train_test_split\n",
        "X_train,X_test,Y_train,Y_test=train_test_split(X,Y,test_size=0.2,random_state=0)"
      ],
      "metadata": {
        "id": "8LWjvzCDeoUq"
      },
      "execution_count": 9,
      "outputs": []
    },
    {
      "cell_type": "code",
      "source": [
        "#Feature scaling\n",
        "\n",
        "from sklearn.preprocessing import StandardScaler\n",
        "sc=StandardScaler()\n",
        "X_train=sc.fit_transform(X_train)\n",
        "X_test=sc.transform(X_test)"
      ],
      "metadata": {
        "id": "Nz1FDTZefP3F"
      },
      "execution_count": 10,
      "outputs": []
    },
    {
      "cell_type": "markdown",
      "source": [],
      "metadata": {
        "id": "mUyQX9vrfKu2"
      }
    },
    {
      "cell_type": "code",
      "source": [
        "ann=tf.keras.models.Sequential()\n",
        "ann.add(tf.keras.layers.Dense(units=6,activation='relu')) #hidden layer 1\n",
        "ann.add(tf.keras.layers.Dense(units=6,activation='relu')) #hidden layer 2\n",
        "ann.add(tf.keras.layers.Dense(units=1,activation='sigmoid')) #output layer\n",
        "\n",
        "ann.compile(optimizer='adam',loss='binary_crossentropy',metrics=['accuracy'])\n",
        "\n",
        "#Training the model\n",
        "\n",
        "ann.fit(X_train,Y_train, batch_size=32, epochs=25)"
      ],
      "metadata": {
        "colab": {
          "base_uri": "https://localhost:8080/"
        },
        "id": "_RmwtrANfs9u",
        "outputId": "2ecbc2bb-ef0c-4cca-c6b7-fd37c95a7c7a"
      },
      "execution_count": 13,
      "outputs": [
        {
          "output_type": "stream",
          "name": "stdout",
          "text": [
            "Epoch 1/25\n",
            "250/250 [==============================] - 1s 2ms/step - loss: 0.5227 - accuracy: 0.7949\n",
            "Epoch 2/25\n",
            "250/250 [==============================] - 0s 2ms/step - loss: 0.4653 - accuracy: 0.7960\n",
            "Epoch 3/25\n",
            "250/250 [==============================] - 0s 2ms/step - loss: 0.4471 - accuracy: 0.7960\n",
            "Epoch 4/25\n",
            "250/250 [==============================] - 0s 2ms/step - loss: 0.4369 - accuracy: 0.7960\n",
            "Epoch 5/25\n",
            "250/250 [==============================] - 0s 2ms/step - loss: 0.4312 - accuracy: 0.7960\n",
            "Epoch 6/25\n",
            "250/250 [==============================] - 0s 2ms/step - loss: 0.4273 - accuracy: 0.7960\n",
            "Epoch 7/25\n",
            "250/250 [==============================] - 0s 2ms/step - loss: 0.4242 - accuracy: 0.7960\n",
            "Epoch 8/25\n",
            "250/250 [==============================] - 0s 2ms/step - loss: 0.4210 - accuracy: 0.8134\n",
            "Epoch 9/25\n",
            "250/250 [==============================] - 0s 2ms/step - loss: 0.4177 - accuracy: 0.8217\n",
            "Epoch 10/25\n",
            "250/250 [==============================] - 0s 2ms/step - loss: 0.4137 - accuracy: 0.8280\n",
            "Epoch 11/25\n",
            "250/250 [==============================] - 0s 2ms/step - loss: 0.4084 - accuracy: 0.8281\n",
            "Epoch 12/25\n",
            "250/250 [==============================] - 0s 2ms/step - loss: 0.3992 - accuracy: 0.8307\n",
            "Epoch 13/25\n",
            "250/250 [==============================] - 0s 2ms/step - loss: 0.3874 - accuracy: 0.8382\n",
            "Epoch 14/25\n",
            "250/250 [==============================] - 0s 2ms/step - loss: 0.3767 - accuracy: 0.8435\n",
            "Epoch 15/25\n",
            "250/250 [==============================] - 0s 2ms/step - loss: 0.3686 - accuracy: 0.8468\n",
            "Epoch 16/25\n",
            "250/250 [==============================] - 0s 2ms/step - loss: 0.3630 - accuracy: 0.8484\n",
            "Epoch 17/25\n",
            "250/250 [==============================] - 0s 2ms/step - loss: 0.3585 - accuracy: 0.8501\n",
            "Epoch 18/25\n",
            "250/250 [==============================] - 0s 2ms/step - loss: 0.3557 - accuracy: 0.8510\n",
            "Epoch 19/25\n",
            "250/250 [==============================] - 0s 2ms/step - loss: 0.3526 - accuracy: 0.8525\n",
            "Epoch 20/25\n",
            "250/250 [==============================] - 0s 2ms/step - loss: 0.3505 - accuracy: 0.8549\n",
            "Epoch 21/25\n",
            "250/250 [==============================] - 0s 2ms/step - loss: 0.3487 - accuracy: 0.8560\n",
            "Epoch 22/25\n",
            "250/250 [==============================] - 0s 2ms/step - loss: 0.3476 - accuracy: 0.8562\n",
            "Epoch 23/25\n",
            "250/250 [==============================] - 0s 2ms/step - loss: 0.3465 - accuracy: 0.8568\n",
            "Epoch 24/25\n",
            "250/250 [==============================] - 0s 2ms/step - loss: 0.3454 - accuracy: 0.8562\n",
            "Epoch 25/25\n",
            "250/250 [==============================] - 0s 2ms/step - loss: 0.3450 - accuracy: 0.8593\n"
          ]
        },
        {
          "output_type": "execute_result",
          "data": {
            "text/plain": [
              "<keras.callbacks.History at 0x7ff3977c4f10>"
            ]
          },
          "metadata": {},
          "execution_count": 13
        }
      ]
    }
  ]
}